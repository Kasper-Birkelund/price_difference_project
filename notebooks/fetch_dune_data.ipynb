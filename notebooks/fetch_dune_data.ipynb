{
 "cells": [
  {
   "cell_type": "code",
   "execution_count": 52,
   "metadata": {},
   "outputs": [],
   "source": [
    "import os\n",
    "from dotenv import load_dotenv, find_dotenv\n",
    "from dune_client.types import QueryParameter\n",
    "from dune_client.client import DuneClient\n",
    "from dune_client.query import QueryBase\n",
    "import psycopg2\n",
    "from sqlalchemy import create_engine\n",
    "import pandas as pd"
   ]
  },
  {
   "cell_type": "code",
   "execution_count": 53,
   "metadata": {},
   "outputs": [
    {
     "data": {
      "text/plain": [
       "True"
      ]
     },
     "execution_count": 53,
     "metadata": {},
     "output_type": "execute_result"
    }
   ],
   "source": [
    "# get environment variables\n",
    "load_dotenv(find_dotenv(), override=True)"
   ]
  },
  {
   "cell_type": "code",
   "execution_count": 54,
   "metadata": {},
   "outputs": [],
   "source": [
    "# setup Dune Python client\n",
    "dune = DuneClient.from_env()\n",
    "\n",
    "# Database connection URL\n",
    "db_url = f\"postgresql+psycopg2://{os.getenv('DB_USER')}:{os.getenv('DB_PASSWORD')}@{os.getenv('DB_HOST')}:{os.getenv('DB_PORT')}/{os.getenv('DB_NAME')}\"\n",
    "engine = create_engine(db_url)"
   ]
  },
  {
   "cell_type": "code",
   "execution_count": 46,
   "metadata": {},
   "outputs": [],
   "source": [
    "# Get latest price from database\n",
    "query = \"SELECT max(block_time_unix) FROM dune_data;\"\n",
    "last_swap = pd.read_sql(query, engine)"
   ]
  },
  {
   "cell_type": "code",
   "execution_count": 47,
   "metadata": {},
   "outputs": [],
   "source": [
    "last_swap = last_swap['max'][0]\n"
   ]
  },
  {
   "cell_type": "code",
   "execution_count": 34,
   "metadata": {},
   "outputs": [],
   "source": [
    "# set the dune query id:\n",
    "dune_query_id = 4002884"
   ]
  },
  {
   "cell_type": "code",
   "execution_count": 69,
   "metadata": {},
   "outputs": [
    {
     "name": "stderr",
     "output_type": "stream",
     "text": [
      "2024-08-21 14:18:57,494 INFO dune_client.api.base executing 4002884 on medium cluster\n",
      "2024-08-21 14:18:57,707 INFO dune_client.api.base waiting for query execution 01J5TE0EF9K2G9199YCF58ZZKD to complete: ExecutionState.PENDING (queue position: 1)\n",
      "2024-08-21 14:18:58,762 INFO dune_client.api.base waiting for query execution 01J5TE0EF9K2G9199YCF58ZZKD to complete: ExecutionState.EXECUTING\n",
      "2024-08-21 14:18:59,819 INFO dune_client.api.base waiting for query execution 01J5TE0EF9K2G9199YCF58ZZKD to complete: ExecutionState.EXECUTING\n",
      "2024-08-21 14:19:00,886 INFO dune_client.api.base waiting for query execution 01J5TE0EF9K2G9199YCF58ZZKD to complete: ExecutionState.EXECUTING\n",
      "2024-08-21 14:19:01,947 INFO dune_client.api.base waiting for query execution 01J5TE0EF9K2G9199YCF58ZZKD to complete: ExecutionState.EXECUTING\n",
      "2024-08-21 14:19:03,010 INFO dune_client.api.base waiting for query execution 01J5TE0EF9K2G9199YCF58ZZKD to complete: ExecutionState.EXECUTING\n",
      "2024-08-21 14:19:04,073 INFO dune_client.api.base waiting for query execution 01J5TE0EF9K2G9199YCF58ZZKD to complete: ExecutionState.EXECUTING\n",
      "2024-08-21 14:19:05,133 INFO dune_client.api.base waiting for query execution 01J5TE0EF9K2G9199YCF58ZZKD to complete: ExecutionState.EXECUTING\n",
      "2024-08-21 14:19:06,196 INFO dune_client.api.base waiting for query execution 01J5TE0EF9K2G9199YCF58ZZKD to complete: ExecutionState.EXECUTING\n",
      "2024-08-21 14:19:07,257 INFO dune_client.api.base waiting for query execution 01J5TE0EF9K2G9199YCF58ZZKD to complete: ExecutionState.EXECUTING\n",
      "2024-08-21 14:19:08,315 INFO dune_client.api.base waiting for query execution 01J5TE0EF9K2G9199YCF58ZZKD to complete: ExecutionState.EXECUTING\n",
      "2024-08-21 14:19:09,376 INFO dune_client.api.base waiting for query execution 01J5TE0EF9K2G9199YCF58ZZKD to complete: ExecutionState.EXECUTING\n",
      "2024-08-21 14:19:10,440 INFO dune_client.api.base waiting for query execution 01J5TE0EF9K2G9199YCF58ZZKD to complete: ExecutionState.EXECUTING\n",
      "2024-08-21 14:19:11,503 INFO dune_client.api.base waiting for query execution 01J5TE0EF9K2G9199YCF58ZZKD to complete: ExecutionState.EXECUTING\n",
      "2024-08-21 14:19:12,559 INFO dune_client.api.base waiting for query execution 01J5TE0EF9K2G9199YCF58ZZKD to complete: ExecutionState.EXECUTING\n",
      "2024-08-21 14:19:13,618 INFO dune_client.api.base waiting for query execution 01J5TE0EF9K2G9199YCF58ZZKD to complete: ExecutionState.EXECUTING\n",
      "2024-08-21 14:19:14,680 INFO dune_client.api.base waiting for query execution 01J5TE0EF9K2G9199YCF58ZZKD to complete: ExecutionState.EXECUTING\n",
      "2024-08-21 14:19:15,744 INFO dune_client.api.base waiting for query execution 01J5TE0EF9K2G9199YCF58ZZKD to complete: ExecutionState.EXECUTING\n",
      "2024-08-21 14:19:16,804 INFO dune_client.api.base waiting for query execution 01J5TE0EF9K2G9199YCF58ZZKD to complete: ExecutionState.EXECUTING\n",
      "2024-08-21 14:19:17,861 INFO dune_client.api.base waiting for query execution 01J5TE0EF9K2G9199YCF58ZZKD to complete: ExecutionState.EXECUTING\n",
      "2024-08-21 14:19:18,917 INFO dune_client.api.base waiting for query execution 01J5TE0EF9K2G9199YCF58ZZKD to complete: ExecutionState.EXECUTING\n",
      "2024-08-21 14:19:19,978 INFO dune_client.api.base waiting for query execution 01J5TE0EF9K2G9199YCF58ZZKD to complete: ExecutionState.EXECUTING\n",
      "2024-08-21 14:19:21,031 INFO dune_client.api.base waiting for query execution 01J5TE0EF9K2G9199YCF58ZZKD to complete: ExecutionState.EXECUTING\n",
      "2024-08-21 14:19:22,094 INFO dune_client.api.base waiting for query execution 01J5TE0EF9K2G9199YCF58ZZKD to complete: ExecutionState.EXECUTING\n",
      "2024-08-21 14:19:23,154 INFO dune_client.api.base waiting for query execution 01J5TE0EF9K2G9199YCF58ZZKD to complete: ExecutionState.EXECUTING\n"
     ]
    }
   ],
   "source": [
    "\"\"\"  query the query (execute and get latest result) \"\"\"\n",
    "query = QueryBase(\n",
    "    query_id=dune_query_id,\n",
    "\n",
    "    params=[\n",
    "        QueryParameter.number_type(name=\"day_limit\", value=1704067200), # default is 1704067200 or 2024-07-01\n",
    "    ],\n",
    ")\n",
    "\n",
    "query_result = dune.run_query_dataframe(\n",
    "  query=query\n",
    "  # , ping_frequency = 10 # uncomment to change the seconds between checking execution status, default is 1 second\n",
    "  # , performance=\"large\" # uncomment to run query on large engine, default is medium\n",
    "  # , batch_size = 5_000 # uncomment to change the maximum number of rows to retrieve per batch of results, default is 32_000\n",
    ") "
   ]
  },
  {
   "cell_type": "code",
   "execution_count": 70,
   "metadata": {},
   "outputs": [],
   "source": [
    "# Remove ' UTC' from the datetime strings\n",
    "query_result['block_time'] = pd.to_datetime(query_result['block_time'].str.replace(' UTC', ''))\n",
    "\n",
    "# Convert the datetime objects to Unix timestamps (seconds since epoch)\n",
    "query_result['block_time_unix'] = query_result['block_time'].astype(int) // 10**9"
   ]
  },
  {
   "cell_type": "code",
   "execution_count": 71,
   "metadata": {},
   "outputs": [],
   "source": [
    "# add sell_price\n",
    "query_result['sell_price'] = query_result['dst_tokens'] / query_result['src_tokens']"
   ]
  },
  {
   "cell_type": "code",
   "execution_count": 72,
   "metadata": {},
   "outputs": [],
   "source": [
    "# \"\"\" get the latest executed result without triggering a new execution \"\"\"\n",
    "# # query_result = dune.get_latest_result(dune_query_id) # get latest result in json format\n",
    "# query_result = dune.get_latest_result_dataframe(dune_query_id) # get latest result in Pandas dataframe format\n",
    "# query_result.shape"
   ]
  },
  {
   "cell_type": "code",
   "execution_count": 73,
   "metadata": {},
   "outputs": [
    {
     "data": {
      "text/plain": [
       "483"
      ]
     },
     "execution_count": 73,
     "metadata": {},
     "output_type": "execute_result"
    }
   ],
   "source": [
    "# Save to PostgreSQL\n",
    "\n",
    "# Use SQLAlchemy to create the table in a specified schema\n",
    "query_result.to_sql('dune_data', engine, schema='public', if_exists='replace', index=False)"
   ]
  },
  {
   "cell_type": "code",
   "execution_count": 74,
   "metadata": {},
   "outputs": [],
   "source": [
    "# Query the full table\n",
    "\n",
    "query = \"SELECT * FROM dune_data;\"\n",
    "\n",
    "df = pd.read_sql(query, engine)"
   ]
  },
  {
   "cell_type": "code",
   "execution_count": 75,
   "metadata": {},
   "outputs": [
    {
     "data": {
      "text/html": [
       "<div>\n",
       "<style scoped>\n",
       "    .dataframe tbody tr th:only-of-type {\n",
       "        vertical-align: middle;\n",
       "    }\n",
       "\n",
       "    .dataframe tbody tr th {\n",
       "        vertical-align: top;\n",
       "    }\n",
       "\n",
       "    .dataframe thead th {\n",
       "        text-align: right;\n",
       "    }\n",
       "</style>\n",
       "<table border=\"1\" class=\"dataframe\">\n",
       "  <thead>\n",
       "    <tr style=\"text-align: right;\">\n",
       "      <th></th>\n",
       "      <th>block_time</th>\n",
       "      <th>tx_hash</th>\n",
       "      <th>src_token_address</th>\n",
       "      <th>src_token_symbol</th>\n",
       "      <th>src_tokens</th>\n",
       "      <th>dst_token_address</th>\n",
       "      <th>dst_token_symbol</th>\n",
       "      <th>dst_tokens</th>\n",
       "      <th>block_time_unix</th>\n",
       "      <th>sell_price</th>\n",
       "    </tr>\n",
       "  </thead>\n",
       "  <tbody>\n",
       "    <tr>\n",
       "      <th>0</th>\n",
       "      <td>2024-06-24 20:10:23</td>\n",
       "      <td>0x265338185467fa750d52375be392c56df75f93bea0f1...</td>\n",
       "      <td>0xc02aaa39b223fe8d0a0e5c4f27ead9083c756cc2</td>\n",
       "      <td>WETH</td>\n",
       "      <td>129.413771</td>\n",
       "      <td>0xa0b86991c6218b36c1d19d4a2e9eb0ce3606eb48</td>\n",
       "      <td>USDC</td>\n",
       "      <td>428328.403249</td>\n",
       "      <td>1719259823</td>\n",
       "      <td>3309.759082</td>\n",
       "    </tr>\n",
       "    <tr>\n",
       "      <th>1</th>\n",
       "      <td>2024-06-17 13:20:35</td>\n",
       "      <td>0xe2472158b2643d02b6c80f6a86c97f293b3268adce0a...</td>\n",
       "      <td>0xc02aaa39b223fe8d0a0e5c4f27ead9083c756cc2</td>\n",
       "      <td>WETH</td>\n",
       "      <td>1.134331</td>\n",
       "      <td>0xa0b86991c6218b36c1d19d4a2e9eb0ce3606eb48</td>\n",
       "      <td>USDC</td>\n",
       "      <td>4006.302981</td>\n",
       "      <td>1718630435</td>\n",
       "      <td>3531.863147</td>\n",
       "    </tr>\n",
       "    <tr>\n",
       "      <th>2</th>\n",
       "      <td>2024-06-24 01:25:59</td>\n",
       "      <td>0xb255d308279f53ed161791085c30113fff7ff48f8561...</td>\n",
       "      <td>0xc02aaa39b223fe8d0a0e5c4f27ead9083c756cc2</td>\n",
       "      <td>WETH</td>\n",
       "      <td>1.112803</td>\n",
       "      <td>0xa0b86991c6218b36c1d19d4a2e9eb0ce3606eb48</td>\n",
       "      <td>USDC</td>\n",
       "      <td>3802.479134</td>\n",
       "      <td>1719192359</td>\n",
       "      <td>3417.028872</td>\n",
       "    </tr>\n",
       "    <tr>\n",
       "      <th>3</th>\n",
       "      <td>2024-06-17 02:08:35</td>\n",
       "      <td>0xdf7fd8e04989d59a824a93e1226299addd1d56a9bd13...</td>\n",
       "      <td>0xc02aaa39b223fe8d0a0e5c4f27ead9083c756cc2</td>\n",
       "      <td>WETH</td>\n",
       "      <td>0.458980</td>\n",
       "      <td>0xa0b86991c6218b36c1d19d4a2e9eb0ce3606eb48</td>\n",
       "      <td>USDC</td>\n",
       "      <td>1652.467808</td>\n",
       "      <td>1718590115</td>\n",
       "      <td>3600.304229</td>\n",
       "    </tr>\n",
       "    <tr>\n",
       "      <th>4</th>\n",
       "      <td>2024-06-19 20:27:23</td>\n",
       "      <td>0xce40c615a3a3425614db1bb2a22c0463dd268b854247...</td>\n",
       "      <td>0xc02aaa39b223fe8d0a0e5c4f27ead9083c756cc2</td>\n",
       "      <td>WETH</td>\n",
       "      <td>0.518160</td>\n",
       "      <td>0xa0b86991c6218b36c1d19d4a2e9eb0ce3606eb48</td>\n",
       "      <td>USDC</td>\n",
       "      <td>1827.579803</td>\n",
       "      <td>1718828843</td>\n",
       "      <td>3527.058892</td>\n",
       "    </tr>\n",
       "    <tr>\n",
       "      <th>...</th>\n",
       "      <td>...</td>\n",
       "      <td>...</td>\n",
       "      <td>...</td>\n",
       "      <td>...</td>\n",
       "      <td>...</td>\n",
       "      <td>...</td>\n",
       "      <td>...</td>\n",
       "      <td>...</td>\n",
       "      <td>...</td>\n",
       "      <td>...</td>\n",
       "    </tr>\n",
       "    <tr>\n",
       "      <th>478</th>\n",
       "      <td>2024-06-29 04:31:11</td>\n",
       "      <td>0xc814b0ac44aab39af0484e2e6356f64bb2b949b439dc...</td>\n",
       "      <td>0xc02aaa39b223fe8d0a0e5c4f27ead9083c756cc2</td>\n",
       "      <td>WETH</td>\n",
       "      <td>10.172217</td>\n",
       "      <td>0xa0b86991c6218b36c1d19d4a2e9eb0ce3606eb48</td>\n",
       "      <td>USDC</td>\n",
       "      <td>34353.812358</td>\n",
       "      <td>1719635471</td>\n",
       "      <td>3377.219788</td>\n",
       "    </tr>\n",
       "    <tr>\n",
       "      <th>479</th>\n",
       "      <td>2024-06-19 15:05:47</td>\n",
       "      <td>0xb2c772b9ffca86b41a4639458a7c0dd23d31a0f7b57c...</td>\n",
       "      <td>0xc02aaa39b223fe8d0a0e5c4f27ead9083c756cc2</td>\n",
       "      <td>WETH</td>\n",
       "      <td>1.170940</td>\n",
       "      <td>0xa0b86991c6218b36c1d19d4a2e9eb0ce3606eb48</td>\n",
       "      <td>USDC</td>\n",
       "      <td>4117.394649</td>\n",
       "      <td>1718809547</td>\n",
       "      <td>3516.314229</td>\n",
       "    </tr>\n",
       "    <tr>\n",
       "      <th>480</th>\n",
       "      <td>2024-06-27 14:20:59</td>\n",
       "      <td>0x2f9f1ad63719e289a29b47a94a3bf219148f1ced8bad...</td>\n",
       "      <td>0xc02aaa39b223fe8d0a0e5c4f27ead9083c756cc2</td>\n",
       "      <td>WETH</td>\n",
       "      <td>25.560105</td>\n",
       "      <td>0xa0b86991c6218b36c1d19d4a2e9eb0ce3606eb48</td>\n",
       "      <td>USDC</td>\n",
       "      <td>88529.651253</td>\n",
       "      <td>1719498059</td>\n",
       "      <td>3463.587214</td>\n",
       "    </tr>\n",
       "    <tr>\n",
       "      <th>481</th>\n",
       "      <td>2024-06-27 14:54:11</td>\n",
       "      <td>0x73c422c7ea886d1f98e8f9c24140d10404365ae3be01...</td>\n",
       "      <td>0xc02aaa39b223fe8d0a0e5c4f27ead9083c756cc2</td>\n",
       "      <td>WETH</td>\n",
       "      <td>14.745112</td>\n",
       "      <td>0xa0b86991c6218b36c1d19d4a2e9eb0ce3606eb48</td>\n",
       "      <td>USDC</td>\n",
       "      <td>50807.480792</td>\n",
       "      <td>1719500051</td>\n",
       "      <td>3445.716885</td>\n",
       "    </tr>\n",
       "    <tr>\n",
       "      <th>482</th>\n",
       "      <td>2024-06-17 15:22:11</td>\n",
       "      <td>0xbe4c670a2dfe505fa7b33bb28c17723ed6989f705592...</td>\n",
       "      <td>0xc02aaa39b223fe8d0a0e5c4f27ead9083c756cc2</td>\n",
       "      <td>WETH</td>\n",
       "      <td>10.556317</td>\n",
       "      <td>0xa0b86991c6218b36c1d19d4a2e9eb0ce3606eb48</td>\n",
       "      <td>USDC</td>\n",
       "      <td>37013.145404</td>\n",
       "      <td>1718637731</td>\n",
       "      <td>3506.255602</td>\n",
       "    </tr>\n",
       "  </tbody>\n",
       "</table>\n",
       "<p>483 rows × 10 columns</p>\n",
       "</div>"
      ],
      "text/plain": [
       "             block_time                                            tx_hash  \\\n",
       "0   2024-06-24 20:10:23  0x265338185467fa750d52375be392c56df75f93bea0f1...   \n",
       "1   2024-06-17 13:20:35  0xe2472158b2643d02b6c80f6a86c97f293b3268adce0a...   \n",
       "2   2024-06-24 01:25:59  0xb255d308279f53ed161791085c30113fff7ff48f8561...   \n",
       "3   2024-06-17 02:08:35  0xdf7fd8e04989d59a824a93e1226299addd1d56a9bd13...   \n",
       "4   2024-06-19 20:27:23  0xce40c615a3a3425614db1bb2a22c0463dd268b854247...   \n",
       "..                  ...                                                ...   \n",
       "478 2024-06-29 04:31:11  0xc814b0ac44aab39af0484e2e6356f64bb2b949b439dc...   \n",
       "479 2024-06-19 15:05:47  0xb2c772b9ffca86b41a4639458a7c0dd23d31a0f7b57c...   \n",
       "480 2024-06-27 14:20:59  0x2f9f1ad63719e289a29b47a94a3bf219148f1ced8bad...   \n",
       "481 2024-06-27 14:54:11  0x73c422c7ea886d1f98e8f9c24140d10404365ae3be01...   \n",
       "482 2024-06-17 15:22:11  0xbe4c670a2dfe505fa7b33bb28c17723ed6989f705592...   \n",
       "\n",
       "                              src_token_address src_token_symbol  src_tokens  \\\n",
       "0    0xc02aaa39b223fe8d0a0e5c4f27ead9083c756cc2             WETH  129.413771   \n",
       "1    0xc02aaa39b223fe8d0a0e5c4f27ead9083c756cc2             WETH    1.134331   \n",
       "2    0xc02aaa39b223fe8d0a0e5c4f27ead9083c756cc2             WETH    1.112803   \n",
       "3    0xc02aaa39b223fe8d0a0e5c4f27ead9083c756cc2             WETH    0.458980   \n",
       "4    0xc02aaa39b223fe8d0a0e5c4f27ead9083c756cc2             WETH    0.518160   \n",
       "..                                          ...              ...         ...   \n",
       "478  0xc02aaa39b223fe8d0a0e5c4f27ead9083c756cc2             WETH   10.172217   \n",
       "479  0xc02aaa39b223fe8d0a0e5c4f27ead9083c756cc2             WETH    1.170940   \n",
       "480  0xc02aaa39b223fe8d0a0e5c4f27ead9083c756cc2             WETH   25.560105   \n",
       "481  0xc02aaa39b223fe8d0a0e5c4f27ead9083c756cc2             WETH   14.745112   \n",
       "482  0xc02aaa39b223fe8d0a0e5c4f27ead9083c756cc2             WETH   10.556317   \n",
       "\n",
       "                              dst_token_address dst_token_symbol  \\\n",
       "0    0xa0b86991c6218b36c1d19d4a2e9eb0ce3606eb48             USDC   \n",
       "1    0xa0b86991c6218b36c1d19d4a2e9eb0ce3606eb48             USDC   \n",
       "2    0xa0b86991c6218b36c1d19d4a2e9eb0ce3606eb48             USDC   \n",
       "3    0xa0b86991c6218b36c1d19d4a2e9eb0ce3606eb48             USDC   \n",
       "4    0xa0b86991c6218b36c1d19d4a2e9eb0ce3606eb48             USDC   \n",
       "..                                          ...              ...   \n",
       "478  0xa0b86991c6218b36c1d19d4a2e9eb0ce3606eb48             USDC   \n",
       "479  0xa0b86991c6218b36c1d19d4a2e9eb0ce3606eb48             USDC   \n",
       "480  0xa0b86991c6218b36c1d19d4a2e9eb0ce3606eb48             USDC   \n",
       "481  0xa0b86991c6218b36c1d19d4a2e9eb0ce3606eb48             USDC   \n",
       "482  0xa0b86991c6218b36c1d19d4a2e9eb0ce3606eb48             USDC   \n",
       "\n",
       "        dst_tokens  block_time_unix   sell_price  \n",
       "0    428328.403249       1719259823  3309.759082  \n",
       "1      4006.302981       1718630435  3531.863147  \n",
       "2      3802.479134       1719192359  3417.028872  \n",
       "3      1652.467808       1718590115  3600.304229  \n",
       "4      1827.579803       1718828843  3527.058892  \n",
       "..             ...              ...          ...  \n",
       "478   34353.812358       1719635471  3377.219788  \n",
       "479    4117.394649       1718809547  3516.314229  \n",
       "480   88529.651253       1719498059  3463.587214  \n",
       "481   50807.480792       1719500051  3445.716885  \n",
       "482   37013.145404       1718637731  3506.255602  \n",
       "\n",
       "[483 rows x 10 columns]"
      ]
     },
     "execution_count": 75,
     "metadata": {},
     "output_type": "execute_result"
    }
   ],
   "source": [
    "df"
   ]
  },
  {
   "cell_type": "code",
   "execution_count": null,
   "metadata": {},
   "outputs": [],
   "source": []
  }
 ],
 "metadata": {
  "kernelspec": {
   "display_name": "Python 3",
   "language": "python",
   "name": "python3"
  },
  "language_info": {
   "codemirror_mode": {
    "name": "ipython",
    "version": 3
   },
   "file_extension": ".py",
   "mimetype": "text/x-python",
   "name": "python",
   "nbconvert_exporter": "python",
   "pygments_lexer": "ipython3",
   "version": "3.11.9"
  }
 },
 "nbformat": 4,
 "nbformat_minor": 2
}
