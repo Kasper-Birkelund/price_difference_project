{
 "cells": [
  {
   "cell_type": "code",
   "execution_count": 12,
   "metadata": {},
   "outputs": [],
   "source": [
    "import os\n",
    "import requests\n",
    "import pandas as pd\n",
    "from sqlalchemy import create_engine\n",
    "from dotenv import load_dotenv\n",
    "\n",
    "# Load environment variables\n",
    "load_dotenv()\n",
    "\n",
    "# Database connection setup\n",
    "db_url = f\"postgresql+psycopg2://{os.getenv('DB_USER')}:{os.getenv('DB_PASSWORD')}@{os.getenv('DB_HOST')}:{os.getenv('DB_PORT')}/{os.getenv('DB_NAME')}\"\n",
    "engine = create_engine(db_url)"
   ]
  },
  {
   "cell_type": "code",
   "execution_count": 13,
   "metadata": {},
   "outputs": [],
   "source": [
    "# API key stored in an environment variable for security\n",
    "api_key = os.getenv('CRYPTOCOMPARE_API_KEY')"
   ]
  },
  {
   "cell_type": "code",
   "execution_count": 20,
   "metadata": {},
   "outputs": [],
   "source": [
    "# get timestamps from trades\n",
    "\n",
    "query = \"\"\"\n",
    "SELECT block_time_unix, tx_hash FROM dune_data\n",
    "WHERE tx_hash not in (SELECT DISTINCT trade_tx from market_prices);\n",
    "\"\"\"\n",
    "\n",
    "trades = pd.read_sql(query, engine)"
   ]
  },
  {
   "cell_type": "code",
   "execution_count": 29,
   "metadata": {},
   "outputs": [],
   "source": [
    "trades = trades.drop_duplicates()"
   ]
  },
  {
   "cell_type": "code",
   "execution_count": 30,
   "metadata": {},
   "outputs": [],
   "source": [
    "# Example trade timestamps to fetch historical prices for\n",
    "# These would be dynamically sourced from your trades data\n",
    "timestamps = dict(zip(trades['block_time_unix'], trades['tx_hash']))"
   ]
  },
  {
   "cell_type": "code",
   "execution_count": 32,
   "metadata": {},
   "outputs": [],
   "source": [
    "all_prices = pd.DataFrame()\n",
    "\n",
    "for ts, tx in timestamps.items():\n",
    "    # Fetch prices 10 minutes before and after the timestamp to ensure coverage\n",
    "    url = f\"https://min-api.cryptocompare.com/data/v2/histoday?fsym=ETH&tsym=USD&toTs={ts}&limit=1&api_key={api_key}\"\n",
    "    response = requests.get(url)\n",
    "    data = response.json()\n",
    "    \n",
    "    # Convert to DataFrame\n",
    "    df = pd.DataFrame(data['Data']['Data'])\n",
    "    df = df.tail(1)\n",
    "    df['time'] = pd.to_datetime(df['time'], unit='s')\n",
    "    df['trade_unix_time'] = ts\n",
    "    df['trade_tx'] = tx\n",
    "    all_prices = pd.concat([all_prices, df], ignore_index=True)"
   ]
  },
  {
   "cell_type": "code",
   "execution_count": 33,
   "metadata": {},
   "outputs": [
    {
     "data": {
      "text/plain": [
       "687"
      ]
     },
     "execution_count": 33,
     "metadata": {},
     "output_type": "execute_result"
    }
   ],
   "source": [
    "# Save to PostgreSQL\n",
    "all_prices.to_sql('market_prices', engine, if_exists='replace', index=False)"
   ]
  },
  {
   "cell_type": "code",
   "execution_count": 38,
   "metadata": {},
   "outputs": [],
   "source": [
    "# Query the full table\n",
    "\n",
    "query = \"SELECT * FROM market_prices;\"\n",
    "\n",
    "df = pd.read_sql(query, engine)"
   ]
  }
 ],
 "metadata": {
  "kernelspec": {
   "display_name": "cow_venv",
   "language": "python",
   "name": "python3"
  },
  "language_info": {
   "codemirror_mode": {
    "name": "ipython",
    "version": 3
   },
   "file_extension": ".py",
   "mimetype": "text/x-python",
   "name": "python",
   "nbconvert_exporter": "python",
   "pygments_lexer": "ipython3",
   "version": "3.11.9"
  }
 },
 "nbformat": 4,
 "nbformat_minor": 2
}
